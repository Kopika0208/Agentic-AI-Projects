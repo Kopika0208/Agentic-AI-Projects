{
 "cells": [
  {
   "cell_type": "code",
   "execution_count": 19,
   "metadata": {},
   "outputs": [],
   "source": [
    "import google.generativeai as genai\n",
    "import os\n",
    "import smtplib\n",
    "from sendgrid import SendGridAPIClient\n",
    "from sendgrid.helpers.mail import Mail"
   ]
  },
  {
   "cell_type": "code",
   "execution_count": 41,
   "metadata": {},
   "outputs": [],
   "source": [
    "GOOGLE_API_KEY = os.getenv(\"GOOGLE_API_KEY\")\n",
    "genai.configure(api_key=GOOGLE_API_KEY)\n",
    "model=genai.GenerativeModel(\"gemini-2.0-flash\")"
   ]
  },
  {
   "cell_type": "code",
   "execution_count": 46,
   "metadata": {},
   "outputs": [],
   "source": [
    "def sales_agent_1(user_prompt):\n",
    "    prompt = f\"You are a sales agent working for ComplAI, \" \\\n",
    "             f\"a company that provides a SaaS tool for ensuring SOC2 compliance and preparing for audits, powered by AI. \" \\\n",
    "             f\"You write professional, serious cold emails for the given user prompt: \\\"{user_prompt}\\\".\"\n",
    "    return model.generate_content(prompt).text\n",
    "\n",
    "\n",
    "def sales_agent_2(user_prompt):\n",
    "    prompt = f\"You are a humorous, engaging sales agent working for ComplAI, \" \\\n",
    "             f\"a company that provides a SaaS tool for ensuring SOC2 compliance and preparing for audits, powered by AI. \" \\\n",
    "             f\"You write witty, engaging cold emails that are likely to get a response for the given user prompt: \\\"{user_prompt}\\\".\"\n",
    "    return model.generate_content(prompt).text\n",
    "\n",
    "\n",
    "def sales_agent_3(user_prompt):\n",
    "    prompt = f\"You are a busy sales agent working for ComplAI, \" \\\n",
    "             f\"a company that provides a SaaS tool for ensuring SOC2 compliance and preparing for audits, powered by AI. \" \\\n",
    "             f\"You write concise, to the point cold emails for the given user prompt: \\\"{user_prompt}\\\".\"\n",
    "    return model.generate_content(prompt).text\n"
   ]
  },
  {
   "cell_type": "code",
   "execution_count": 47,
   "metadata": {},
   "outputs": [],
   "source": [
    "sales_tools = {\n",
    "    \"Tool 1\": sales_agent_1,\n",
    "    \"Tool 2\": sales_agent_2,\n",
    "    \"Tool 3\": sales_agent_3,\n",
    "}\n"
   ]
  },
  {
   "cell_type": "code",
   "execution_count": 89,
   "metadata": {},
   "outputs": [],
   "source": [
    "def subject_writer(email_text):\n",
    "    prompt = f\"You can write a subject for a cold sales email. \\\n",
    "You are given a message and you need to write a subject for an email that is likely to get a response for the given email text.Do NOT include multiple options, explanations, or reasoning. Output ONLY the subject line for the email without the heading 'Subject:' : \\\"{email_text}\\\".\"\n",
    "    return model.generate_content(prompt).text\n",
    "\n",
    "def html_formatter(email_text):\n",
    "    prompt = f\"You can convert a text email body to an HTML email body. \\\n",
    "You are given a text email body which might have some markdown \\\n",
    "and you need to convert it to an HTML email body with simple, clear, compelling layout and design without any further explanations about it or why you have chose this color/font/layout etc. for the given email text: \\\"{email_text}\\\". And also do not print/include '''html''' in the output.\"\n",
    "    return model.generate_content(prompt).text"
   ]
  },
  {
   "cell_type": "code",
   "execution_count": 90,
   "metadata": {},
   "outputs": [],
   "source": [
    "def send_email_via_sendgrid(subject, html_body):\n",
    "    sender_email = \"kopika0208@gmail.com\"\n",
    "    message = Mail(\n",
    "        from_email=sender_email,\n",
    "        to_emails='kopika0208@gmail.com',\n",
    "        subject=subject,\n",
    "        html_content=html_body\n",
    "    )\n",
    "\n",
    "    try:\n",
    "        sg = SendGridAPIClient(os.environ['SENDGRID_API_KEY'])\n",
    "        response = sg.send(message)\n",
    "        print(\"Email sent:\", response.status_code)\n",
    "    except Exception as e:\n",
    "        print(\"SendGrid Error:\", e)"
   ]
  },
  {
   "cell_type": "code",
   "execution_count": 91,
   "metadata": {},
   "outputs": [],
   "source": [
    "email_tools = {\n",
    "    \"Tool 1\": subject_writer,\n",
    "    \"Tool 2\": html_formatter,\n",
    "}"
   ]
  },
  {
   "cell_type": "code",
   "execution_count": 92,
   "metadata": {},
   "outputs": [],
   "source": [
    "def email_manager_agent(email_text):\n",
    "    tools = {\n",
    "        \"subject_writer\": subject_writer,\n",
    "        \"html_formatter\": html_formatter,\n",
    "        \"send_email_via_sendgrid\": send_email_via_sendgrid\n",
    "    }\n",
    "\n",
    "    # Prompt the model to generate just the final email text — no reasoning or explanations\n",
    "    prompt = f\"\"\"\n",
    "You are an email_manager_agent at ComplAI.\n",
    "\n",
    "Your job is to produce a professional cold sales email based on the input below.\n",
    "Do NOT provide explanations, reasoning, or any text besides the email content.\n",
    "\n",
    "Input email body to process:\n",
    "\n",
    "--- BEGIN EMAIL BODY ---\n",
    "{email_text}\n",
    "--- END EMAIL BODY ---\n",
    "\n",
    "Output only the email body text.\n",
    "\"\"\"\n",
    "\n",
    "    email_body = model.generate_content(prompt).text.strip()\n",
    "\n",
    "    # Now call the tools to generate subject, html, and send the email\n",
    "    subject = tools[\"subject_writer\"](email_body)\n",
    "    html_body = tools[\"html_formatter\"](email_body)\n",
    "    status = tools[\"send_email_via_sendgrid\"](subject, html_body)\n",
    "\n",
    "    return f\"\"\"✅ Email sent!\n",
    "\n",
    "📬 Status: {status}\n",
    "\"\"\""
   ]
  },
  {
   "cell_type": "code",
   "execution_count": 93,
   "metadata": {},
   "outputs": [],
   "source": [
    "def manager_agent(user_prompt):\n",
    "    tool_outputs = {}\n",
    "\n",
    "    # Pass user_prompt to each sales tool\n",
    "    for name, tool in sales_tools.items():\n",
    "        tool_outputs[name] = tool(user_prompt)\n",
    "\n",
    "    # Main reasoning prompt with tool outputs and user context\n",
    "    prompt = f\"\"\"\n",
    "You are a sales manager working for ComplAI. You use the tools given to you to generate cold sales emails. \n",
    "You never generate emails yourself; you always use the tools. \n",
    "You try all 3 sales agent tools at least once before choosing the best one. \n",
    "You can use the tools multiple times if you're not satisfied with the results from the first try. \n",
    "You select the single best email using your own judgment of which email will be most effective. \n",
    "After picking the email, you hand off to the email_manager_agent to format and send the email.\n",
    "\n",
    "Here is the user's request/context:\n",
    "\\\"\\\"\\\"{user_prompt}\\\"\\\"\\\"\n",
    "\n",
    "You have access to 3 sales agents as tools.\n",
    "\n",
    "Tool 1 Output:\n",
    "{tool_outputs['Tool 1']}\n",
    "\n",
    "---\n",
    "\n",
    "Tool 2 Output:\n",
    "{tool_outputs['Tool 2']}\n",
    "\n",
    "---\n",
    "\n",
    "Tool 3 Output:\n",
    "{tool_outputs['Tool 3']}\n",
    "\n",
    "---\n",
    "\n",
    "Now choose the best email from the above and pass it to the email_manager_agent to format and send.\n",
    "Only pass the final chosen email content to the email_manager_agent.\n",
    "\"\"\"\n",
    "    final_email_text = model.generate_content(prompt).text\n",
    "    return email_manager_agent(final_email_text)"
   ]
  },
  {
   "cell_type": "code",
   "execution_count": 94,
   "metadata": {},
   "outputs": [],
   "source": [
    "user_prompt=\"Send out a cold sales email addressed to Dear CEO from Alice\""
   ]
  },
  {
   "cell_type": "code",
   "execution_count": 95,
   "metadata": {},
   "outputs": [
    {
     "name": "stdout",
     "output_type": "stream",
     "text": [
      "Email sent: 202\n"
     ]
    },
    {
     "data": {
      "text/plain": [
       "'✅ Email sent!\\n\\n📬 Status: None\\n'"
      ]
     },
     "execution_count": 95,
     "metadata": {},
     "output_type": "execute_result"
    }
   ],
   "source": [
    "manager_agent(user_prompt)"
   ]
  }
 ],
 "metadata": {
  "kernelspec": {
   "display_name": ".venv",
   "language": "python",
   "name": "python3"
  },
  "language_info": {
   "codemirror_mode": {
    "name": "ipython",
    "version": 3
   },
   "file_extension": ".py",
   "mimetype": "text/x-python",
   "name": "python",
   "nbconvert_exporter": "python",
   "pygments_lexer": "ipython3",
   "version": "3.12.10"
  }
 },
 "nbformat": 4,
 "nbformat_minor": 2
}
